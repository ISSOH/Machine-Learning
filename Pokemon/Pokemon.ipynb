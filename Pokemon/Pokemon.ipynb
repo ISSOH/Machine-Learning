{
 "cells": [
  {
   "cell_type": "markdown",
   "metadata": {},
   "source": [
    "## Définition du Problème\n",
    "Le projet consiste à prédire le vainqueur de combats entre deux pokemons."
   ]
  },
  {
   "cell_type": "code",
   "execution_count": 29,
   "metadata": {},
   "outputs": [],
   "source": [
    "import numpy as np\n",
    "import pandas as pd\n",
    "import matplotlib.pyplot as plt\n",
    "import seaborn as sns\n",
    "import csv\n",
    "\n",
    "from sklearn.model_selection import train_test_split\n",
    "from sklearn.metrics import r2_score\n",
    "from sklearn.linear_model import LinearRegression\n",
    "from sklearn.tree import DecisionTreeRegressor\n",
    "from sklearn.ensemble import RandomForestRegressor\n",
    "from sklearn.externals import joblib\n",
    "\n",
    "import warnings\n",
    "warnings.filterwarnings('always')\n",
    "warnings.filterwarnings('ignore')\n",
    "\n",
    "import matplotlib as mpl\n",
    "mpl.rc('axes', labelsize=14)\n",
    "mpl.rc('xtick', labelsize=12)\n",
    "mpl.rc('ytick', labelsize=12)"
   ]
  },
  {
   "cell_type": "markdown",
   "metadata": {},
   "source": [
    "### Description des features\t\t\t\t\t\t\n",
    "<ul>\n",
    "    <li>NUMERO: Numero</li>\n",
    "    <li>NOM: Nom du Pokemon</li>\n",
    "    <li>TYPE_1: Type primaire</li>\n",
    "    <li>TYPE_2: Type Secondaire</li>\n",
    "    <li>POINTS_DE_VIE: Point de vie</li>\n",
    "    <li>POINTS_ATTAQUE: Niveau d'attaque</li>\n",
    "    <li>POINTS_DEFFENCE: Niveau de defense</li>\n",
    "    <li>POINTS_ATTAQUE_SPECIALE: Niveau d'attaque spéciale</li>\n",
    "    <li>POINT_DEFENSE_SPECIALE: Niveau de spéciale spéciale</li>\n",
    "    <li>POINTS_VITESSE: Vitesse</li>\n",
    "    <li>NOMBRE_GENERATIONS : Numéro de la génération</li>\n",
    "    <li>LEGENDAIRE: Le pokemon est il légendaire?</li>\n",
    "</ul>"
   ]
  },
  {
   "cell_type": "markdown",
   "metadata": {},
   "source": [
    "## Acquisition des données"
   ]
  },
  {
   "cell_type": "code",
   "execution_count": 9,
   "metadata": {},
   "outputs": [
    {
     "name": "stdout",
     "output_type": "stream",
     "text": [
      "combats.csv\n",
      "dataset.csv\n",
      "pokedex.csv\n",
      "tests.csv\n"
     ]
    }
   ],
   "source": [
    "#Récupération des fichiers necessaires au modèle.\n",
    "import os\n",
    "\n",
    "fileList = os.listdir(\"./datas\")\n",
    "for file in fileList:\n",
    "    print(file)"
   ]
  },
  {
   "cell_type": "code",
   "execution_count": 15,
   "metadata": {},
   "outputs": [],
   "source": [
    "pokemons = pd.read_csv(\"./datas/pokedex.csv\", encoding = \"ISO-8859-1\")"
   ]
  },
  {
   "cell_type": "code",
   "execution_count": 16,
   "metadata": {},
   "outputs": [
    {
     "data": {
      "text/html": [
       "<div>\n",
       "<style scoped>\n",
       "    .dataframe tbody tr th:only-of-type {\n",
       "        vertical-align: middle;\n",
       "    }\n",
       "\n",
       "    .dataframe tbody tr th {\n",
       "        vertical-align: top;\n",
       "    }\n",
       "\n",
       "    .dataframe thead th {\n",
       "        text-align: right;\n",
       "    }\n",
       "</style>\n",
       "<table border=\"1\" class=\"dataframe\">\n",
       "  <thead>\n",
       "    <tr style=\"text-align: right;\">\n",
       "      <th></th>\n",
       "      <th>NUMERO</th>\n",
       "      <th>NOM</th>\n",
       "      <th>TYPE_1</th>\n",
       "      <th>TYPE_2</th>\n",
       "      <th>POINTS_DE_VIE</th>\n",
       "      <th>POINTS_ATTAQUE</th>\n",
       "      <th>POINTS_DEFFENCE</th>\n",
       "      <th>POINTS_ATTAQUE_SPECIALE</th>\n",
       "      <th>POINT_DEFENSE_SPECIALE</th>\n",
       "      <th>POINTS_VITESSE</th>\n",
       "      <th>NOMBRE_GENERATIONS</th>\n",
       "      <th>LEGENDAIRE</th>\n",
       "    </tr>\n",
       "  </thead>\n",
       "  <tbody>\n",
       "    <tr>\n",
       "      <th>0</th>\n",
       "      <td>1</td>\n",
       "      <td>Bulbizarre</td>\n",
       "      <td>Herbe</td>\n",
       "      <td>Poison</td>\n",
       "      <td>45</td>\n",
       "      <td>49</td>\n",
       "      <td>49</td>\n",
       "      <td>65</td>\n",
       "      <td>65</td>\n",
       "      <td>45</td>\n",
       "      <td>1</td>\n",
       "      <td>FAUX</td>\n",
       "    </tr>\n",
       "    <tr>\n",
       "      <th>1</th>\n",
       "      <td>2</td>\n",
       "      <td>Herbizarre</td>\n",
       "      <td>Herbe</td>\n",
       "      <td>Poison</td>\n",
       "      <td>60</td>\n",
       "      <td>62</td>\n",
       "      <td>63</td>\n",
       "      <td>80</td>\n",
       "      <td>80</td>\n",
       "      <td>60</td>\n",
       "      <td>1</td>\n",
       "      <td>FAUX</td>\n",
       "    </tr>\n",
       "    <tr>\n",
       "      <th>2</th>\n",
       "      <td>3</td>\n",
       "      <td>Florizarre</td>\n",
       "      <td>Herbe</td>\n",
       "      <td>Poison</td>\n",
       "      <td>80</td>\n",
       "      <td>82</td>\n",
       "      <td>83</td>\n",
       "      <td>100</td>\n",
       "      <td>100</td>\n",
       "      <td>80</td>\n",
       "      <td>1</td>\n",
       "      <td>FAUX</td>\n",
       "    </tr>\n",
       "    <tr>\n",
       "      <th>3</th>\n",
       "      <td>4</td>\n",
       "      <td>Mega Florizarre</td>\n",
       "      <td>Herbe</td>\n",
       "      <td>Poison</td>\n",
       "      <td>80</td>\n",
       "      <td>100</td>\n",
       "      <td>123</td>\n",
       "      <td>122</td>\n",
       "      <td>120</td>\n",
       "      <td>80</td>\n",
       "      <td>1</td>\n",
       "      <td>FAUX</td>\n",
       "    </tr>\n",
       "    <tr>\n",
       "      <th>4</th>\n",
       "      <td>5</td>\n",
       "      <td>Salamèche</td>\n",
       "      <td>Feu</td>\n",
       "      <td>NaN</td>\n",
       "      <td>39</td>\n",
       "      <td>52</td>\n",
       "      <td>43</td>\n",
       "      <td>60</td>\n",
       "      <td>50</td>\n",
       "      <td>65</td>\n",
       "      <td>1</td>\n",
       "      <td>FAUX</td>\n",
       "    </tr>\n",
       "    <tr>\n",
       "      <th>5</th>\n",
       "      <td>6</td>\n",
       "      <td>Reptincel</td>\n",
       "      <td>Feu</td>\n",
       "      <td>NaN</td>\n",
       "      <td>58</td>\n",
       "      <td>64</td>\n",
       "      <td>58</td>\n",
       "      <td>80</td>\n",
       "      <td>65</td>\n",
       "      <td>80</td>\n",
       "      <td>1</td>\n",
       "      <td>FAUX</td>\n",
       "    </tr>\n",
       "    <tr>\n",
       "      <th>6</th>\n",
       "      <td>7</td>\n",
       "      <td>Dracaufeu</td>\n",
       "      <td>Feu</td>\n",
       "      <td>Vol</td>\n",
       "      <td>78</td>\n",
       "      <td>84</td>\n",
       "      <td>78</td>\n",
       "      <td>109</td>\n",
       "      <td>85</td>\n",
       "      <td>100</td>\n",
       "      <td>1</td>\n",
       "      <td>FAUX</td>\n",
       "    </tr>\n",
       "    <tr>\n",
       "      <th>7</th>\n",
       "      <td>8</td>\n",
       "      <td>Mega Dracaufeu X</td>\n",
       "      <td>Feu</td>\n",
       "      <td>Dragon</td>\n",
       "      <td>78</td>\n",
       "      <td>130</td>\n",
       "      <td>111</td>\n",
       "      <td>130</td>\n",
       "      <td>85</td>\n",
       "      <td>100</td>\n",
       "      <td>1</td>\n",
       "      <td>FAUX</td>\n",
       "    </tr>\n",
       "    <tr>\n",
       "      <th>8</th>\n",
       "      <td>9</td>\n",
       "      <td>Mega Dracaufeu Y</td>\n",
       "      <td>Feu</td>\n",
       "      <td>Vol</td>\n",
       "      <td>78</td>\n",
       "      <td>104</td>\n",
       "      <td>78</td>\n",
       "      <td>159</td>\n",
       "      <td>115</td>\n",
       "      <td>100</td>\n",
       "      <td>1</td>\n",
       "      <td>FAUX</td>\n",
       "    </tr>\n",
       "    <tr>\n",
       "      <th>9</th>\n",
       "      <td>10</td>\n",
       "      <td>Carapuce</td>\n",
       "      <td>Eau</td>\n",
       "      <td>NaN</td>\n",
       "      <td>44</td>\n",
       "      <td>48</td>\n",
       "      <td>65</td>\n",
       "      <td>50</td>\n",
       "      <td>64</td>\n",
       "      <td>43</td>\n",
       "      <td>1</td>\n",
       "      <td>FAUX</td>\n",
       "    </tr>\n",
       "  </tbody>\n",
       "</table>\n",
       "</div>"
      ],
      "text/plain": [
       "   NUMERO               NOM TYPE_1  TYPE_2  POINTS_DE_VIE  POINTS_ATTAQUE  \\\n",
       "0       1        Bulbizarre  Herbe  Poison             45              49   \n",
       "1       2        Herbizarre  Herbe  Poison             60              62   \n",
       "2       3        Florizarre  Herbe  Poison             80              82   \n",
       "3       4   Mega Florizarre  Herbe  Poison             80             100   \n",
       "4       5         Salamèche    Feu     NaN             39              52   \n",
       "5       6         Reptincel    Feu     NaN             58              64   \n",
       "6       7         Dracaufeu    Feu     Vol             78              84   \n",
       "7       8  Mega Dracaufeu X    Feu  Dragon             78             130   \n",
       "8       9  Mega Dracaufeu Y    Feu     Vol             78             104   \n",
       "9      10          Carapuce    Eau     NaN             44              48   \n",
       "\n",
       "   POINTS_DEFFENCE  POINTS_ATTAQUE_SPECIALE  POINT_DEFENSE_SPECIALE  \\\n",
       "0               49                       65                      65   \n",
       "1               63                       80                      80   \n",
       "2               83                      100                     100   \n",
       "3              123                      122                     120   \n",
       "4               43                       60                      50   \n",
       "5               58                       80                      65   \n",
       "6               78                      109                      85   \n",
       "7              111                      130                      85   \n",
       "8               78                      159                     115   \n",
       "9               65                       50                      64   \n",
       "\n",
       "   POINTS_VITESSE  NOMBRE_GENERATIONS LEGENDAIRE  \n",
       "0              45                   1       FAUX  \n",
       "1              60                   1       FAUX  \n",
       "2              80                   1       FAUX  \n",
       "3              80                   1       FAUX  \n",
       "4              65                   1       FAUX  \n",
       "5              80                   1       FAUX  \n",
       "6             100                   1       FAUX  \n",
       "7             100                   1       FAUX  \n",
       "8             100                   1       FAUX  \n",
       "9              43                   1       FAUX  "
      ]
     },
     "execution_count": 16,
     "metadata": {},
     "output_type": "execute_result"
    }
   ],
   "source": [
    "pokemons.head(10)"
   ]
  },
  {
   "cell_type": "markdown",
   "metadata": {},
   "source": [
    "## Préparation et Nettoyage des données"
   ]
  },
  {
   "cell_type": "code",
   "execution_count": 17,
   "metadata": {},
   "outputs": [
    {
     "data": {
      "text/plain": [
       "(800, 12)"
      ]
     },
     "execution_count": 17,
     "metadata": {},
     "output_type": "execute_result"
    }
   ],
   "source": [
    "pokemons.shape"
   ]
  },
  {
   "cell_type": "code",
   "execution_count": 18,
   "metadata": {},
   "outputs": [
    {
     "name": "stdout",
     "output_type": "stream",
     "text": [
      "<class 'pandas.core.frame.DataFrame'>\n",
      "RangeIndex: 800 entries, 0 to 799\n",
      "Data columns (total 12 columns):\n",
      "NUMERO                     800 non-null int64\n",
      "NOM                        799 non-null object\n",
      "TYPE_1                     800 non-null object\n",
      "TYPE_2                     413 non-null object\n",
      "POINTS_DE_VIE              800 non-null int64\n",
      "POINTS_ATTAQUE             800 non-null int64\n",
      "POINTS_DEFFENCE            800 non-null int64\n",
      "POINTS_ATTAQUE_SPECIALE    800 non-null int64\n",
      "POINT_DEFENSE_SPECIALE     800 non-null int64\n",
      "POINTS_VITESSE             800 non-null int64\n",
      "NOMBRE_GENERATIONS         800 non-null int64\n",
      "LEGENDAIRE                 800 non-null object\n",
      "dtypes: int64(8), object(4)\n",
      "memory usage: 75.1+ KB\n"
     ]
    }
   ],
   "source": [
    "pokemons.info()"
   ]
  },
  {
   "cell_type": "code",
   "execution_count": 23,
   "metadata": {},
   "outputs": [
    {
     "data": {
      "text/html": [
       "<div>\n",
       "<style scoped>\n",
       "    .dataframe tbody tr th:only-of-type {\n",
       "        vertical-align: middle;\n",
       "    }\n",
       "\n",
       "    .dataframe tbody tr th {\n",
       "        vertical-align: top;\n",
       "    }\n",
       "\n",
       "    .dataframe thead th {\n",
       "        text-align: right;\n",
       "    }\n",
       "</style>\n",
       "<table border=\"1\" class=\"dataframe\">\n",
       "  <thead>\n",
       "    <tr style=\"text-align: right;\">\n",
       "      <th></th>\n",
       "      <th>NUMERO</th>\n",
       "      <th>NOM</th>\n",
       "      <th>TYPE_1</th>\n",
       "      <th>TYPE_2</th>\n",
       "      <th>POINTS_DE_VIE</th>\n",
       "      <th>POINTS_ATTAQUE</th>\n",
       "      <th>POINTS_DEFFENCE</th>\n",
       "      <th>POINTS_ATTAQUE_SPECIALE</th>\n",
       "      <th>POINT_DEFENSE_SPECIALE</th>\n",
       "      <th>POINTS_VITESSE</th>\n",
       "      <th>NOMBRE_GENERATIONS</th>\n",
       "      <th>LEGENDAIRE</th>\n",
       "    </tr>\n",
       "  </thead>\n",
       "  <tbody>\n",
       "  </tbody>\n",
       "</table>\n",
       "</div>"
      ],
      "text/plain": [
       "Empty DataFrame\n",
       "Columns: [NUMERO, NOM, TYPE_1, TYPE_2, POINTS_DE_VIE, POINTS_ATTAQUE, POINTS_DEFFENCE, POINTS_ATTAQUE_SPECIALE, POINT_DEFENSE_SPECIALE, POINTS_VITESSE, NOMBRE_GENERATIONS, LEGENDAIRE]\n",
       "Index: []"
      ]
     },
     "execution_count": 23,
     "metadata": {},
     "output_type": "execute_result"
    }
   ],
   "source": [
    "pokemons[pokemons['NOM'].isnull()]"
   ]
  },
  {
   "cell_type": "code",
   "execution_count": 24,
   "metadata": {},
   "outputs": [],
   "source": [
    "pokemons['NOM'][62]=\"Colossinge\""
   ]
  },
  {
   "cell_type": "markdown",
   "metadata": {},
   "source": [
    "### Idenfication des features de catégorisation"
   ]
  },
  {
   "cell_type": "code",
   "execution_count": 27,
   "metadata": {},
   "outputs": [
    {
     "data": {
      "text/html": [
       "<div>\n",
       "<style scoped>\n",
       "    .dataframe tbody tr th:only-of-type {\n",
       "        vertical-align: middle;\n",
       "    }\n",
       "\n",
       "    .dataframe tbody tr th {\n",
       "        vertical-align: top;\n",
       "    }\n",
       "\n",
       "    .dataframe thead th {\n",
       "        text-align: right;\n",
       "    }\n",
       "</style>\n",
       "<table border=\"1\" class=\"dataframe\">\n",
       "  <thead>\n",
       "    <tr style=\"text-align: right;\">\n",
       "      <th></th>\n",
       "      <th>NOM</th>\n",
       "      <th>TYPE_1</th>\n",
       "      <th>TYPE_2</th>\n",
       "      <th>LEGENDAIRE</th>\n",
       "    </tr>\n",
       "  </thead>\n",
       "  <tbody>\n",
       "    <tr>\n",
       "      <th>0</th>\n",
       "      <td>Bulbizarre</td>\n",
       "      <td>Herbe</td>\n",
       "      <td>Poison</td>\n",
       "      <td>FAUX</td>\n",
       "    </tr>\n",
       "    <tr>\n",
       "      <th>1</th>\n",
       "      <td>Herbizarre</td>\n",
       "      <td>Herbe</td>\n",
       "      <td>Poison</td>\n",
       "      <td>FAUX</td>\n",
       "    </tr>\n",
       "    <tr>\n",
       "      <th>2</th>\n",
       "      <td>Florizarre</td>\n",
       "      <td>Herbe</td>\n",
       "      <td>Poison</td>\n",
       "      <td>FAUX</td>\n",
       "    </tr>\n",
       "    <tr>\n",
       "      <th>3</th>\n",
       "      <td>Mega Florizarre</td>\n",
       "      <td>Herbe</td>\n",
       "      <td>Poison</td>\n",
       "      <td>FAUX</td>\n",
       "    </tr>\n",
       "    <tr>\n",
       "      <th>4</th>\n",
       "      <td>Salamèche</td>\n",
       "      <td>Feu</td>\n",
       "      <td>NaN</td>\n",
       "      <td>FAUX</td>\n",
       "    </tr>\n",
       "  </tbody>\n",
       "</table>\n",
       "</div>"
      ],
      "text/plain": [
       "               NOM TYPE_1  TYPE_2 LEGENDAIRE\n",
       "0       Bulbizarre  Herbe  Poison       FAUX\n",
       "1       Herbizarre  Herbe  Poison       FAUX\n",
       "2       Florizarre  Herbe  Poison       FAUX\n",
       "3  Mega Florizarre  Herbe  Poison       FAUX\n",
       "4        Salamèche    Feu     NaN       FAUX"
      ]
     },
     "execution_count": 27,
     "metadata": {},
     "output_type": "execute_result"
    }
   ],
   "source": [
    "cat_features = pokemons.select_dtypes(include=['object'])\n",
    "cat_features.head()"
   ]
  },
  {
   "cell_type": "markdown",
   "metadata": {},
   "source": [
    "Nous allons nous concentrer sur ces features à l'exception du **NOM**."
   ]
  },
  {
   "cell_type": "code",
   "execution_count": 35,
   "metadata": {},
   "outputs": [
    {
     "data": {
      "text/plain": [
       "<matplotlib.axes._subplots.AxesSubplot at 0x18f73e47ef0>"
      ]
     },
     "execution_count": 35,
     "metadata": {},
     "output_type": "execute_result"
    },
    {
     "data": {
      "image/png": "[encoded data removed]",
      "text/plain": [
       "<Figure size 432x288 with 1 Axes>"
      ]
     },
     "metadata": {
      "needs_background": "light"
     },
     "output_type": "display_data"
    }
   ],
   "source": [
    "#Nombre de pokemons de type primaire \n",
    "#sns.catplot(x='TYPE_1',data=pokemons, kind='count', height=3, aspect=1.5)\n",
    "pokemons.TYPE_1.value_counts().plot.bar()"
   ]
  },
  {
   "cell_type": "code",
   "execution_count": 37,
   "metadata": {},
   "outputs": [
    {
     "data": {
      "text/plain": [
       "<matplotlib.axes._subplots.AxesSubplot at 0x18f74eab4a8>"
      ]
     },
     "execution_count": 37,
     "metadata": {},
     "output_type": "execute_result"
    },
    {
     "data": {
      "image/png": "[encoded data removed]",
      "text/plain": [
       "<Figure size 432x288 with 1 Axes>"
      ]
     },
     "metadata": {
      "needs_background": "light"
     },
     "output_type": "display_data"
    }
   ],
   "source": [
    "#Nombre de pokemons de type secondaire \n",
    "pokemons.TYPE_2.value_counts().plot.bar()LEGENDAIRE"
   ]
  },
  {
   "cell_type": "code",
   "execution_count": 38,
   "metadata": {},
   "outputs": [
    {
     "data": {
      "text/plain": [
       "<matplotlib.axes._subplots.AxesSubplot at 0x18f74ec8f60>"
      ]
     },
     "execution_count": 38,
     "metadata": {},
     "output_type": "execute_result"
    },
    {
     "data": {
      "image/png": "[encoded data removed]",
      "text/plain": [
       "<Figure size 432x288 with 1 Axes>"
      ]
     },
     "metadata": {
      "needs_background": "light"
     },
     "output_type": "display_data"
    }
   ],
   "source": [
    "pokemons.LEGENDAIRE.value_counts().plot.bar()"
   ]
  },
  {
   "cell_type": "code",
   "execution_count": 39,
   "metadata": {},
   "outputs": [],
   "source": [
    "#Transformation la feature de catégorisation LEGENDAIRE en donnée numerique \n",
    "pokemons['LEGENDAIRE'] = (pokemons['LEGENDAIRE']==\"VRAI\").astype(int)"
   ]
  },
  {
   "cell_type": "markdown",
   "metadata": {},
   "source": [
    "## Acquisition des données de combats"
   ]
  },
  {
   "cell_type": "code",
   "execution_count": 41,
   "metadata": {},
   "outputs": [
    {
     "data": {
      "text/html": [
       "<div>\n",
       "<style scoped>\n",
       "    .dataframe tbody tr th:only-of-type {\n",
       "        vertical-align: middle;\n",
       "    }\n",
       "\n",
       "    .dataframe tbody tr th {\n",
       "        vertical-align: top;\n",
       "    }\n",
       "\n",
       "    .dataframe thead th {\n",
       "        text-align: right;\n",
       "    }\n",
       "</style>\n",
       "<table border=\"1\" class=\"dataframe\">\n",
       "  <thead>\n",
       "    <tr style=\"text-align: right;\">\n",
       "      <th></th>\n",
       "      <th>Premier_Pokemon</th>\n",
       "      <th>Second_Pokemon</th>\n",
       "      <th>Pokemon_Gagnant</th>\n",
       "    </tr>\n",
       "  </thead>\n",
       "  <tbody>\n",
       "    <tr>\n",
       "      <th>0</th>\n",
       "      <td>266</td>\n",
       "      <td>298</td>\n",
       "      <td>298</td>\n",
       "    </tr>\n",
       "    <tr>\n",
       "      <th>1</th>\n",
       "      <td>702</td>\n",
       "      <td>701</td>\n",
       "      <td>701</td>\n",
       "    </tr>\n",
       "    <tr>\n",
       "      <th>2</th>\n",
       "      <td>191</td>\n",
       "      <td>668</td>\n",
       "      <td>668</td>\n",
       "    </tr>\n",
       "    <tr>\n",
       "      <th>3</th>\n",
       "      <td>237</td>\n",
       "      <td>683</td>\n",
       "      <td>683</td>\n",
       "    </tr>\n",
       "    <tr>\n",
       "      <th>4</th>\n",
       "      <td>151</td>\n",
       "      <td>231</td>\n",
       "      <td>151</td>\n",
       "    </tr>\n",
       "  </tbody>\n",
       "</table>\n",
       "</div>"
      ],
      "text/plain": [
       "   Premier_Pokemon  Second_Pokemon  Pokemon_Gagnant\n",
       "0              266             298              298\n",
       "1              702             701              701\n",
       "2              191             668              668\n",
       "3              237             683              683\n",
       "4              151             231              151"
      ]
     },
     "execution_count": 41,
     "metadata": {},
     "output_type": "execute_result"
    }
   ],
   "source": [
    "combats = pd.read_csv(\".datas/combats.csv\", encoding = \"ISO-8859-1\")\n",
    "combats.head()"
   ]
  },
  {
   "cell_type": "code",
   "execution_count": 42,
   "metadata": {},
   "outputs": [
    {
     "data": {
      "text/plain": [
       "Index(['Premier_Pokemon', 'Second_Pokemon', 'Pokemon_Gagnant'], dtype='object')"
      ]
     },
     "execution_count": 42,
     "metadata": {},
     "output_type": "execute_result"
    }
   ],
   "source": [
    "combats.columns"
   ]
  },
  {
   "cell_type": "code",
   "execution_count": 43,
   "metadata": {},
   "outputs": [
    {
     "data": {
      "text/plain": [
       "(50000, 3)"
      ]
     },
     "execution_count": 43,
     "metadata": {},
     "output_type": "execute_result"
    }
   ],
   "source": [
    "combats.shape"
   ]
  },
  {
   "cell_type": "code",
   "execution_count": 44,
   "metadata": {},
   "outputs": [
    {
     "name": "stdout",
     "output_type": "stream",
     "text": [
      "<class 'pandas.core.frame.DataFrame'>\n",
      "RangeIndex: 50000 entries, 0 to 49999\n",
      "Data columns (total 3 columns):\n",
      "Premier_Pokemon    50000 non-null int64\n",
      "Second_Pokemon     50000 non-null int64\n",
      "Pokemon_Gagnant    50000 non-null int64\n",
      "dtypes: int64(3)\n",
      "memory usage: 1.1 MB\n"
     ]
    }
   ],
   "source": [
    "combats.info()"
   ]
  },
  {
   "cell_type": "markdown",
   "metadata": {},
   "source": [
    "## Feature engineering"
   ]
  },
  {
   "cell_type": "markdown",
   "metadata": {},
   "source": [
    "Nous allons déterminer le nombre de combats par Pokémon. Pour cela nous devons caluler le nombre d'apparitions en premier position et le nombre de fois en seconde position."
   ]
  },
  {
   "cell_type": "code",
   "execution_count": 48,
   "metadata": {},
   "outputs": [
    {
     "data": {
      "text/html": [
       "<div>\n",
       "<style scoped>\n",
       "    .dataframe tbody tr th:only-of-type {\n",
       "        vertical-align: middle;\n",
       "    }\n",
       "\n",
       "    .dataframe tbody tr th {\n",
       "        vertical-align: top;\n",
       "    }\n",
       "\n",
       "    .dataframe thead th {\n",
       "        text-align: right;\n",
       "    }\n",
       "</style>\n",
       "<table border=\"1\" class=\"dataframe\">\n",
       "  <thead>\n",
       "    <tr style=\"text-align: right;\">\n",
       "      <th></th>\n",
       "      <th>Second_Pokemon</th>\n",
       "      <th>Pokemon_Gagnant</th>\n",
       "    </tr>\n",
       "    <tr>\n",
       "      <th>Premier_Pokemon</th>\n",
       "      <th></th>\n",
       "      <th></th>\n",
       "    </tr>\n",
       "  </thead>\n",
       "  <tbody>\n",
       "    <tr>\n",
       "      <th>1</th>\n",
       "      <td>70</td>\n",
       "      <td>70</td>\n",
       "    </tr>\n",
       "    <tr>\n",
       "      <th>2</th>\n",
       "      <td>55</td>\n",
       "      <td>55</td>\n",
       "    </tr>\n",
       "    <tr>\n",
       "      <th>3</th>\n",
       "      <td>68</td>\n",
       "      <td>68</td>\n",
       "    </tr>\n",
       "    <tr>\n",
       "      <th>4</th>\n",
       "      <td>62</td>\n",
       "      <td>62</td>\n",
       "    </tr>\n",
       "    <tr>\n",
       "      <th>5</th>\n",
       "      <td>50</td>\n",
       "      <td>50</td>\n",
       "    </tr>\n",
       "  </tbody>\n",
       "</table>\n",
       "</div>"
      ],
      "text/plain": [
       "                 Second_Pokemon  Pokemon_Gagnant\n",
       "Premier_Pokemon                                 \n",
       "1                            70               70\n",
       "2                            55               55\n",
       "3                            68               68\n",
       "4                            62               62\n",
       "5                            50               50"
      ]
     },
     "execution_count": 48,
     "metadata": {},
     "output_type": "execute_result"
    }
   ],
   "source": [
    "nbreCombatsPremierePosition = combats.groupby('Premier_Pokemon').count()\n",
    "nbreCombatsPremierePosition.head(5)"
   ]
  },
  {
   "cell_type": "code",
   "execution_count": 49,
   "metadata": {},
   "outputs": [
    {
     "data": {
      "text/html": [
       "<div>\n",
       "<style scoped>\n",
       "    .dataframe tbody tr th:only-of-type {\n",
       "        vertical-align: middle;\n",
       "    }\n",
       "\n",
       "    .dataframe tbody tr th {\n",
       "        vertical-align: top;\n",
       "    }\n",
       "\n",
       "    .dataframe thead th {\n",
       "        text-align: right;\n",
       "    }\n",
       "</style>\n",
       "<table border=\"1\" class=\"dataframe\">\n",
       "  <thead>\n",
       "    <tr style=\"text-align: right;\">\n",
       "      <th></th>\n",
       "      <th>Premier_Pokemon</th>\n",
       "      <th>Pokemon_Gagnant</th>\n",
       "    </tr>\n",
       "    <tr>\n",
       "      <th>Second_Pokemon</th>\n",
       "      <th></th>\n",
       "      <th></th>\n",
       "    </tr>\n",
       "  </thead>\n",
       "  <tbody>\n",
       "    <tr>\n",
       "      <th>1</th>\n",
       "      <td>63</td>\n",
       "      <td>63</td>\n",
       "    </tr>\n",
       "    <tr>\n",
       "      <th>2</th>\n",
       "      <td>66</td>\n",
       "      <td>66</td>\n",
       "    </tr>\n",
       "    <tr>\n",
       "      <th>3</th>\n",
       "      <td>64</td>\n",
       "      <td>64</td>\n",
       "    </tr>\n",
       "    <tr>\n",
       "      <th>4</th>\n",
       "      <td>63</td>\n",
       "      <td>63</td>\n",
       "    </tr>\n",
       "    <tr>\n",
       "      <th>5</th>\n",
       "      <td>62</td>\n",
       "      <td>62</td>\n",
       "    </tr>\n",
       "  </tbody>\n",
       "</table>\n",
       "</div>"
      ],
      "text/plain": [
       "                Premier_Pokemon  Pokemon_Gagnant\n",
       "Second_Pokemon                                  \n",
       "1                            63               63\n",
       "2                            66               66\n",
       "3                            64               64\n",
       "4                            63               63\n",
       "5                            62               62"
      ]
     },
     "execution_count": 49,
     "metadata": {},
     "output_type": "execute_result"
    }
   ],
   "source": [
    "nbreCombatsSecondePosition = combats.groupby('Second_Pokemon').count()\n",
    "nbreCombatsSecondePosition.head(5)"
   ]
  },
  {
   "cell_type": "code",
   "execution_count": 50,
   "metadata": {},
   "outputs": [
    {
     "data": {
      "text/html": [
       "<div>\n",
       "<style scoped>\n",
       "    .dataframe tbody tr th:only-of-type {\n",
       "        vertical-align: middle;\n",
       "    }\n",
       "\n",
       "    .dataframe tbody tr th {\n",
       "        vertical-align: top;\n",
       "    }\n",
       "\n",
       "    .dataframe thead th {\n",
       "        text-align: right;\n",
       "    }\n",
       "</style>\n",
       "<table border=\"1\" class=\"dataframe\">\n",
       "  <thead>\n",
       "    <tr style=\"text-align: right;\">\n",
       "      <th></th>\n",
       "      <th>Pokemon_Gagnant</th>\n",
       "      <th>Premier_Pokemon</th>\n",
       "      <th>Second_Pokemon</th>\n",
       "    </tr>\n",
       "    <tr>\n",
       "      <th>Premier_Pokemon</th>\n",
       "      <th></th>\n",
       "      <th></th>\n",
       "      <th></th>\n",
       "    </tr>\n",
       "  </thead>\n",
       "  <tbody>\n",
       "    <tr>\n",
       "      <th>1</th>\n",
       "      <td>133</td>\n",
       "      <td>NaN</td>\n",
       "      <td>NaN</td>\n",
       "    </tr>\n",
       "    <tr>\n",
       "      <th>2</th>\n",
       "      <td>121</td>\n",
       "      <td>NaN</td>\n",
       "      <td>NaN</td>\n",
       "    </tr>\n",
       "    <tr>\n",
       "      <th>3</th>\n",
       "      <td>132</td>\n",
       "      <td>NaN</td>\n",
       "      <td>NaN</td>\n",
       "    </tr>\n",
       "    <tr>\n",
       "      <th>4</th>\n",
       "      <td>125</td>\n",
       "      <td>NaN</td>\n",
       "      <td>NaN</td>\n",
       "    </tr>\n",
       "    <tr>\n",
       "      <th>5</th>\n",
       "      <td>112</td>\n",
       "      <td>NaN</td>\n",
       "      <td>NaN</td>\n",
       "    </tr>\n",
       "    <tr>\n",
       "      <th>6</th>\n",
       "      <td>118</td>\n",
       "      <td>NaN</td>\n",
       "      <td>NaN</td>\n",
       "    </tr>\n",
       "    <tr>\n",
       "      <th>7</th>\n",
       "      <td>133</td>\n",
       "      <td>NaN</td>\n",
       "      <td>NaN</td>\n",
       "    </tr>\n",
       "    <tr>\n",
       "      <th>8</th>\n",
       "      <td>139</td>\n",
       "      <td>NaN</td>\n",
       "      <td>NaN</td>\n",
       "    </tr>\n",
       "  </tbody>\n",
       "</table>\n",
       "</div>"
      ],
      "text/plain": [
       "                 Pokemon_Gagnant  Premier_Pokemon  Second_Pokemon\n",
       "Premier_Pokemon                                                  \n",
       "1                            133              NaN             NaN\n",
       "2                            121              NaN             NaN\n",
       "3                            132              NaN             NaN\n",
       "4                            125              NaN             NaN\n",
       "5                            112              NaN             NaN\n",
       "6                            118              NaN             NaN\n",
       "7                            133              NaN             NaN\n",
       "8                            139              NaN             NaN"
      ]
     },
     "execution_count": 50,
     "metadata": {},
     "output_type": "execute_result"
    }
   ],
   "source": [
    "nbreTotalCombatsParPokemon = nbreCombatsPremierePosition+nbreCombatsSecondePosition\n",
    "nbreTotalCombatsParPokemon.head(8)"
   ]
  },
  {
   "cell_type": "code",
   "execution_count": 51,
   "metadata": {},
   "outputs": [
    {
     "data": {
      "text/html": [
       "<div>\n",
       "<style scoped>\n",
       "    .dataframe tbody tr th:only-of-type {\n",
       "        vertical-align: middle;\n",
       "    }\n",
       "\n",
       "    .dataframe tbody tr th {\n",
       "        vertical-align: top;\n",
       "    }\n",
       "\n",
       "    .dataframe thead th {\n",
       "        text-align: right;\n",
       "    }\n",
       "</style>\n",
       "<table border=\"1\" class=\"dataframe\">\n",
       "  <thead>\n",
       "    <tr style=\"text-align: right;\">\n",
       "      <th></th>\n",
       "      <th>Premier_Pokemon</th>\n",
       "      <th>Second_Pokemon</th>\n",
       "    </tr>\n",
       "    <tr>\n",
       "      <th>Pokemon_Gagnant</th>\n",
       "      <th></th>\n",
       "      <th></th>\n",
       "    </tr>\n",
       "  </thead>\n",
       "  <tbody>\n",
       "    <tr>\n",
       "      <th>1</th>\n",
       "      <td>37</td>\n",
       "      <td>37</td>\n",
       "    </tr>\n",
       "    <tr>\n",
       "      <th>2</th>\n",
       "      <td>46</td>\n",
       "      <td>46</td>\n",
       "    </tr>\n",
       "    <tr>\n",
       "      <th>3</th>\n",
       "      <td>89</td>\n",
       "      <td>89</td>\n",
       "    </tr>\n",
       "    <tr>\n",
       "      <th>4</th>\n",
       "      <td>70</td>\n",
       "      <td>70</td>\n",
       "    </tr>\n",
       "    <tr>\n",
       "      <th>5</th>\n",
       "      <td>55</td>\n",
       "      <td>55</td>\n",
       "    </tr>\n",
       "  </tbody>\n",
       "</table>\n",
       "</div>"
      ],
      "text/plain": [
       "                 Premier_Pokemon  Second_Pokemon\n",
       "Pokemon_Gagnant                                 \n",
       "1                             37              37\n",
       "2                             46              46\n",
       "3                             89              89\n",
       "4                             70              70\n",
       "5                             55              55"
      ]
     },
     "execution_count": 51,
     "metadata": {},
     "output_type": "execute_result"
    }
   ],
   "source": [
    "#Nombre de combats gagnés\n",
    "nbreCombatsGagnes = combats.groupby('Pokemon_Gagnant').count()\n",
    "nbreCombatsGagnes.head(5)"
   ]
  },
  {
   "cell_type": "code",
   "execution_count": 52,
   "metadata": {},
   "outputs": [
    {
     "name": "stdout",
     "output_type": "stream",
     "text": [
      "<class 'pandas.core.frame.DataFrame'>\n",
      "Int64Index: 783 entries, 1 to 800\n",
      "Data columns (total 2 columns):\n",
      "Premier_Pokemon    783 non-null int64\n",
      "Second_Pokemon     783 non-null int64\n",
      "dtypes: int64(2)\n",
      "memory usage: 18.4 KB\n"
     ]
    }
   ],
   "source": [
    "nbreCombatsGagnes.info()"
   ]
  },
  {
   "cell_type": "code",
   "execution_count": 53,
   "metadata": {},
   "outputs": [
    {
     "data": {
      "text/html": [
       "<div>\n",
       "<style scoped>\n",
       "    .dataframe tbody tr th:only-of-type {\n",
       "        vertical-align: middle;\n",
       "    }\n",
       "\n",
       "    .dataframe tbody tr th {\n",
       "        vertical-align: top;\n",
       "    }\n",
       "\n",
       "    .dataframe thead th {\n",
       "        text-align: right;\n",
       "    }\n",
       "</style>\n",
       "<table border=\"1\" class=\"dataframe\">\n",
       "  <thead>\n",
       "    <tr style=\"text-align: right;\">\n",
       "      <th></th>\n",
       "      <th>Premier_Pokemon</th>\n",
       "      <th>Second_Pokemon</th>\n",
       "      <th>NBRE_COMBATS</th>\n",
       "      <th>NBRE_VICTOIRES</th>\n",
       "      <th>POURCENTAGE_VICTOIRES</th>\n",
       "    </tr>\n",
       "    <tr>\n",
       "      <th>Pokemon_Gagnant</th>\n",
       "      <th></th>\n",
       "      <th></th>\n",
       "      <th></th>\n",
       "      <th></th>\n",
       "      <th></th>\n",
       "    </tr>\n",
       "  </thead>\n",
       "  <tbody>\n",
       "    <tr>\n",
       "      <th>1</th>\n",
       "      <td>37</td>\n",
       "      <td>37</td>\n",
       "      <td>133</td>\n",
       "      <td>37</td>\n",
       "      <td>0.278195</td>\n",
       "    </tr>\n",
       "    <tr>\n",
       "      <th>2</th>\n",
       "      <td>46</td>\n",
       "      <td>46</td>\n",
       "      <td>121</td>\n",
       "      <td>46</td>\n",
       "      <td>0.380165</td>\n",
       "    </tr>\n",
       "    <tr>\n",
       "      <th>3</th>\n",
       "      <td>89</td>\n",
       "      <td>89</td>\n",
       "      <td>132</td>\n",
       "      <td>89</td>\n",
       "      <td>0.674242</td>\n",
       "    </tr>\n",
       "    <tr>\n",
       "      <th>4</th>\n",
       "      <td>70</td>\n",
       "      <td>70</td>\n",
       "      <td>125</td>\n",
       "      <td>70</td>\n",
       "      <td>0.560000</td>\n",
       "    </tr>\n",
       "    <tr>\n",
       "      <th>5</th>\n",
       "      <td>55</td>\n",
       "      <td>55</td>\n",
       "      <td>112</td>\n",
       "      <td>55</td>\n",
       "      <td>0.491071</td>\n",
       "    </tr>\n",
       "  </tbody>\n",
       "</table>\n",
       "</div>"
      ],
      "text/plain": [
       "                 Premier_Pokemon  Second_Pokemon  NBRE_COMBATS  \\\n",
       "Pokemon_Gagnant                                                  \n",
       "1                             37              37           133   \n",
       "2                             46              46           121   \n",
       "3                             89              89           132   \n",
       "4                             70              70           125   \n",
       "5                             55              55           112   \n",
       "\n",
       "                 NBRE_VICTOIRES  POURCENTAGE_VICTOIRES  \n",
       "Pokemon_Gagnant                                         \n",
       "1                            37               0.278195  \n",
       "2                            46               0.380165  \n",
       "3                            89               0.674242  \n",
       "4                            70               0.560000  \n",
       "5                            55               0.491071  "
      ]
     },
     "execution_count": 53,
     "metadata": {},
     "output_type": "execute_result"
    }
   ],
   "source": [
    "listePokemons = combats.groupby('Pokemon_Gagnant').count()\n",
    "listePokemons.sort_index()\n",
    "listePokemons['NBRE_COMBATS'] = nbreTotalCombatsParPokemon.Pokemon_Gagnant\n",
    "listePokemons['NBRE_VICTOIRES'] = nbreCombatsGagnes.Premier_Pokemon\n",
    "listePokemons['POURCENTAGE_VICTOIRES'] = nbreCombatsGagnes.Premier_Pokemon/nbreTotalCombatsParPokemon.Pokemon_Gagnant\n",
    "listePokemons.head(5)"
   ]
  },
  {
   "cell_type": "code",
   "execution_count": 54,
   "metadata": {},
   "outputs": [
    {
     "data": {
      "text/html": [
       "<div>\n",
       "<style scoped>\n",
       "    .dataframe tbody tr th:only-of-type {\n",
       "        vertical-align: middle;\n",
       "    }\n",
       "\n",
       "    .dataframe tbody tr th {\n",
       "        vertical-align: top;\n",
       "    }\n",
       "\n",
       "    .dataframe thead th {\n",
       "        text-align: right;\n",
       "    }\n",
       "</style>\n",
       "<table border=\"1\" class=\"dataframe\">\n",
       "  <thead>\n",
       "    <tr style=\"text-align: right;\">\n",
       "      <th></th>\n",
       "      <th>NUMERO</th>\n",
       "      <th>NOM</th>\n",
       "      <th>TYPE_1</th>\n",
       "      <th>TYPE_2</th>\n",
       "      <th>POINTS_DE_VIE</th>\n",
       "      <th>POINTS_ATTAQUE</th>\n",
       "      <th>POINTS_DEFFENCE</th>\n",
       "      <th>POINTS_ATTAQUE_SPECIALE</th>\n",
       "      <th>POINT_DEFENSE_SPECIALE</th>\n",
       "      <th>POINTS_VITESSE</th>\n",
       "      <th>NOMBRE_GENERATIONS</th>\n",
       "      <th>LEGENDAIRE</th>\n",
       "      <th>Premier_Pokemon</th>\n",
       "      <th>Second_Pokemon</th>\n",
       "      <th>NBRE_COMBATS</th>\n",
       "      <th>NBRE_VICTOIRES</th>\n",
       "      <th>POURCENTAGE_VICTOIRES</th>\n",
       "    </tr>\n",
       "  </thead>\n",
       "  <tbody>\n",
       "    <tr>\n",
       "      <th>0</th>\n",
       "      <td>1</td>\n",
       "      <td>Bulbizarre</td>\n",
       "      <td>Herbe</td>\n",
       "      <td>Poison</td>\n",
       "      <td>45</td>\n",
       "      <td>49</td>\n",
       "      <td>49</td>\n",
       "      <td>65</td>\n",
       "      <td>65</td>\n",
       "      <td>45</td>\n",
       "      <td>1</td>\n",
       "      <td>0</td>\n",
       "      <td>37.0</td>\n",
       "      <td>37.0</td>\n",
       "      <td>133.0</td>\n",
       "      <td>37.0</td>\n",
       "      <td>0.278195</td>\n",
       "    </tr>\n",
       "    <tr>\n",
       "      <th>1</th>\n",
       "      <td>2</td>\n",
       "      <td>Herbizarre</td>\n",
       "      <td>Herbe</td>\n",
       "      <td>Poison</td>\n",
       "      <td>60</td>\n",
       "      <td>62</td>\n",
       "      <td>63</td>\n",
       "      <td>80</td>\n",
       "      <td>80</td>\n",
       "      <td>60</td>\n",
       "      <td>1</td>\n",
       "      <td>0</td>\n",
       "      <td>46.0</td>\n",
       "      <td>46.0</td>\n",
       "      <td>121.0</td>\n",
       "      <td>46.0</td>\n",
       "      <td>0.380165</td>\n",
       "    </tr>\n",
       "    <tr>\n",
       "      <th>2</th>\n",
       "      <td>3</td>\n",
       "      <td>Florizarre</td>\n",
       "      <td>Herbe</td>\n",
       "      <td>Poison</td>\n",
       "      <td>80</td>\n",
       "      <td>82</td>\n",
       "      <td>83</td>\n",
       "      <td>100</td>\n",
       "      <td>100</td>\n",
       "      <td>80</td>\n",
       "      <td>1</td>\n",
       "      <td>0</td>\n",
       "      <td>89.0</td>\n",
       "      <td>89.0</td>\n",
       "      <td>132.0</td>\n",
       "      <td>89.0</td>\n",
       "      <td>0.674242</td>\n",
       "    </tr>\n",
       "    <tr>\n",
       "      <th>3</th>\n",
       "      <td>4</td>\n",
       "      <td>Mega Florizarre</td>\n",
       "      <td>Herbe</td>\n",
       "      <td>Poison</td>\n",
       "      <td>80</td>\n",
       "      <td>100</td>\n",
       "      <td>123</td>\n",
       "      <td>122</td>\n",
       "      <td>120</td>\n",
       "      <td>80</td>\n",
       "      <td>1</td>\n",
       "      <td>0</td>\n",
       "      <td>70.0</td>\n",
       "      <td>70.0</td>\n",
       "      <td>125.0</td>\n",
       "      <td>70.0</td>\n",
       "      <td>0.560000</td>\n",
       "    </tr>\n",
       "    <tr>\n",
       "      <th>4</th>\n",
       "      <td>5</td>\n",
       "      <td>Salamèche</td>\n",
       "      <td>Feu</td>\n",
       "      <td>NaN</td>\n",
       "      <td>39</td>\n",
       "      <td>52</td>\n",
       "      <td>43</td>\n",
       "      <td>60</td>\n",
       "      <td>50</td>\n",
       "      <td>65</td>\n",
       "      <td>1</td>\n",
       "      <td>0</td>\n",
       "      <td>55.0</td>\n",
       "      <td>55.0</td>\n",
       "      <td>112.0</td>\n",
       "      <td>55.0</td>\n",
       "      <td>0.491071</td>\n",
       "    </tr>\n",
       "  </tbody>\n",
       "</table>\n",
       "</div>"
      ],
      "text/plain": [
       "   NUMERO              NOM TYPE_1  TYPE_2  POINTS_DE_VIE  POINTS_ATTAQUE  \\\n",
       "0       1       Bulbizarre  Herbe  Poison             45              49   \n",
       "1       2       Herbizarre  Herbe  Poison             60              62   \n",
       "2       3       Florizarre  Herbe  Poison             80              82   \n",
       "3       4  Mega Florizarre  Herbe  Poison             80             100   \n",
       "4       5        Salamèche    Feu     NaN             39              52   \n",
       "\n",
       "   POINTS_DEFFENCE  POINTS_ATTAQUE_SPECIALE  POINT_DEFENSE_SPECIALE  \\\n",
       "0               49                       65                      65   \n",
       "1               63                       80                      80   \n",
       "2               83                      100                     100   \n",
       "3              123                      122                     120   \n",
       "4               43                       60                      50   \n",
       "\n",
       "   POINTS_VITESSE  NOMBRE_GENERATIONS  LEGENDAIRE  Premier_Pokemon  \\\n",
       "0              45                   1           0             37.0   \n",
       "1              60                   1           0             46.0   \n",
       "2              80                   1           0             89.0   \n",
       "3              80                   1           0             70.0   \n",
       "4              65                   1           0             55.0   \n",
       "\n",
       "   Second_Pokemon  NBRE_COMBATS  NBRE_VICTOIRES  POURCENTAGE_VICTOIRES  \n",
       "0            37.0         133.0            37.0               0.278195  \n",
       "1            46.0         121.0            46.0               0.380165  \n",
       "2            89.0         132.0            89.0               0.674242  \n",
       "3            70.0         125.0            70.0               0.560000  \n",
       "4            55.0         112.0            55.0               0.491071  "
      ]
     },
     "execution_count": 54,
     "metadata": {},
     "output_type": "execute_result"
    }
   ],
   "source": [
    "#Agrregate both dataframe to have global view into data\n",
    "nouveauPokedex = pokemons.merge(listePokemons,left_on='NUMERO', right_index=True, how='left')\n",
    "nouveauPokedex.head(5)"
   ]
  },
  {
   "cell_type": "code",
   "execution_count": 55,
   "metadata": {},
   "outputs": [
    {
     "name": "stdout",
     "output_type": "stream",
     "text": [
      "<class 'pandas.core.frame.DataFrame'>\n",
      "RangeIndex: 800 entries, 0 to 799\n",
      "Data columns (total 17 columns):\n",
      "NUMERO                     800 non-null int64\n",
      "NOM                        800 non-null object\n",
      "TYPE_1                     800 non-null object\n",
      "TYPE_2                     413 non-null object\n",
      "POINTS_DE_VIE              800 non-null int64\n",
      "POINTS_ATTAQUE             800 non-null int64\n",
      "POINTS_DEFFENCE            800 non-null int64\n",
      "POINTS_ATTAQUE_SPECIALE    800 non-null int64\n",
      "POINT_DEFENSE_SPECIALE     800 non-null int64\n",
      "POINTS_VITESSE             800 non-null int64\n",
      "NOMBRE_GENERATIONS         800 non-null int64\n",
      "LEGENDAIRE                 800 non-null int32\n",
      "Premier_Pokemon            783 non-null float64\n",
      "Second_Pokemon             783 non-null float64\n",
      "NBRE_COMBATS               783 non-null float64\n",
      "NBRE_VICTOIRES             783 non-null float64\n",
      "POURCENTAGE_VICTOIRES      783 non-null float64\n",
      "dtypes: float64(5), int32(1), int64(8), object(3)\n",
      "memory usage: 103.2+ KB\n"
     ]
    }
   ],
   "source": [
    "#Phase d'apprentissage\n",
    "#Decoupage des observations en jeu d'apprentissage et jeu de test\n",
    "nouveauPokedex.info()"
   ]
  },
  {
   "cell_type": "code",
   "execution_count": 56,
   "metadata": {},
   "outputs": [
    {
     "data": {
      "image/png": "[encoded data removed]",
      "text/plain": [
       "<Figure size 432x288 with 1 Axes>"
      ]
     },
     "metadata": {
      "needs_background": "light"
     },
     "output_type": "display_data"
    }
   ],
   "source": [
    "#What Pokemons Type should trainer have?\n",
    "#For TYPE_1\n",
    "axe_X = sns.countplot(x='TYPE_1', hue='LEGENDAIRE', data=nouveauPokedex)\n",
    "plt.xticks(rotation=90)\n",
    "plt.xlabel('TYPE_1')\n",
    "plt.ylabel('Total')\n",
    "plt.title('Pokemons par TYPE_1')\n",
    "plt.show()"
   ]
  },
  {
   "cell_type": "code",
   "execution_count": 57,
   "metadata": {},
   "outputs": [
    {
     "data": {
      "image/png": "[encoded data removed]",
      "text/plain": [
       "<Figure size 432x288 with 1 Axes>"
      ]
     },
     "metadata": {
      "needs_background": "light"
     },
     "output_type": "display_data"
    }
   ],
   "source": [
    "#What Pokemons Type should trainer have?\n",
    "#For TYPE_2\n",
    "axe_X = sns.countplot(x='TYPE_2', hue='LEGENDAIRE', data=nouveauPokedex)\n",
    "plt.xticks(rotation=90)\n",
    "plt.xlabel('TYPE_1')\n",
    "plt.ylabel('Total')\n",
    "plt.title('Pokemons par TYPE_2')\n",
    "plt.show()"
   ]
  },
  {
   "cell_type": "code",
   "execution_count": 58,
   "metadata": {},
   "outputs": [
    {
     "data": {
      "text/html": [
       "<div>\n",
       "<style scoped>\n",
       "    .dataframe tbody tr th:only-of-type {\n",
       "        vertical-align: middle;\n",
       "    }\n",
       "\n",
       "    .dataframe tbody tr th {\n",
       "        vertical-align: top;\n",
       "    }\n",
       "\n",
       "    .dataframe thead th {\n",
       "        text-align: right;\n",
       "    }\n",
       "</style>\n",
       "<table border=\"1\" class=\"dataframe\">\n",
       "  <thead>\n",
       "    <tr style=\"text-align: right;\">\n",
       "      <th></th>\n",
       "      <th>NUMERO</th>\n",
       "      <th>POINTS_DE_VIE</th>\n",
       "      <th>POINTS_ATTAQUE</th>\n",
       "      <th>POINTS_DEFFENCE</th>\n",
       "      <th>POINTS_ATTAQUE_SPECIALE</th>\n",
       "      <th>POINT_DEFENSE_SPECIALE</th>\n",
       "      <th>POINTS_VITESSE</th>\n",
       "      <th>NOMBRE_GENERATIONS</th>\n",
       "      <th>LEGENDAIRE</th>\n",
       "      <th>Premier_Pokemon</th>\n",
       "      <th>Second_Pokemon</th>\n",
       "      <th>NBRE_COMBATS</th>\n",
       "      <th>NBRE_VICTOIRES</th>\n",
       "      <th>POURCENTAGE_VICTOIRES</th>\n",
       "    </tr>\n",
       "  </thead>\n",
       "  <tbody>\n",
       "    <tr>\n",
       "      <th>count</th>\n",
       "      <td>800.0000</td>\n",
       "      <td>800.000000</td>\n",
       "      <td>800.000000</td>\n",
       "      <td>800.000000</td>\n",
       "      <td>800.000000</td>\n",
       "      <td>800.000000</td>\n",
       "      <td>800.000000</td>\n",
       "      <td>800.00000</td>\n",
       "      <td>800.00000</td>\n",
       "      <td>783.000000</td>\n",
       "      <td>783.000000</td>\n",
       "      <td>783.000000</td>\n",
       "      <td>783.000000</td>\n",
       "      <td>783.000000</td>\n",
       "    </tr>\n",
       "    <tr>\n",
       "      <th>mean</th>\n",
       "      <td>400.5000</td>\n",
       "      <td>69.258750</td>\n",
       "      <td>79.001250</td>\n",
       "      <td>73.842500</td>\n",
       "      <td>72.820000</td>\n",
       "      <td>71.902500</td>\n",
       "      <td>68.277500</td>\n",
       "      <td>3.32375</td>\n",
       "      <td>0.08125</td>\n",
       "      <td>63.856960</td>\n",
       "      <td>63.856960</td>\n",
       "      <td>127.541507</td>\n",
       "      <td>63.856960</td>\n",
       "      <td>0.501538</td>\n",
       "    </tr>\n",
       "    <tr>\n",
       "      <th>std</th>\n",
       "      <td>231.0844</td>\n",
       "      <td>25.534669</td>\n",
       "      <td>32.457366</td>\n",
       "      <td>31.183501</td>\n",
       "      <td>32.722294</td>\n",
       "      <td>27.828916</td>\n",
       "      <td>29.060474</td>\n",
       "      <td>1.66129</td>\n",
       "      <td>0.27339</td>\n",
       "      <td>32.925941</td>\n",
       "      <td>32.925941</td>\n",
       "      <td>11.397402</td>\n",
       "      <td>32.925941</td>\n",
       "      <td>0.254993</td>\n",
       "    </tr>\n",
       "    <tr>\n",
       "      <th>min</th>\n",
       "      <td>1.0000</td>\n",
       "      <td>1.000000</td>\n",
       "      <td>5.000000</td>\n",
       "      <td>5.000000</td>\n",
       "      <td>10.000000</td>\n",
       "      <td>20.000000</td>\n",
       "      <td>5.000000</td>\n",
       "      <td>1.00000</td>\n",
       "      <td>0.00000</td>\n",
       "      <td>3.000000</td>\n",
       "      <td>3.000000</td>\n",
       "      <td>92.000000</td>\n",
       "      <td>3.000000</td>\n",
       "      <td>0.021739</td>\n",
       "    </tr>\n",
       "    <tr>\n",
       "      <th>25%</th>\n",
       "      <td>200.7500</td>\n",
       "      <td>50.000000</td>\n",
       "      <td>55.000000</td>\n",
       "      <td>50.000000</td>\n",
       "      <td>49.750000</td>\n",
       "      <td>50.000000</td>\n",
       "      <td>45.000000</td>\n",
       "      <td>2.00000</td>\n",
       "      <td>0.00000</td>\n",
       "      <td>36.000000</td>\n",
       "      <td>36.000000</td>\n",
       "      <td>120.000000</td>\n",
       "      <td>36.000000</td>\n",
       "      <td>0.284228</td>\n",
       "    </tr>\n",
       "    <tr>\n",
       "      <th>50%</th>\n",
       "      <td>400.5000</td>\n",
       "      <td>65.000000</td>\n",
       "      <td>75.000000</td>\n",
       "      <td>70.000000</td>\n",
       "      <td>65.000000</td>\n",
       "      <td>70.000000</td>\n",
       "      <td>65.000000</td>\n",
       "      <td>3.00000</td>\n",
       "      <td>0.00000</td>\n",
       "      <td>62.000000</td>\n",
       "      <td>62.000000</td>\n",
       "      <td>128.000000</td>\n",
       "      <td>62.000000</td>\n",
       "      <td>0.491071</td>\n",
       "    </tr>\n",
       "    <tr>\n",
       "      <th>75%</th>\n",
       "      <td>600.2500</td>\n",
       "      <td>80.000000</td>\n",
       "      <td>100.000000</td>\n",
       "      <td>90.000000</td>\n",
       "      <td>95.000000</td>\n",
       "      <td>90.000000</td>\n",
       "      <td>90.000000</td>\n",
       "      <td>5.00000</td>\n",
       "      <td>0.00000</td>\n",
       "      <td>91.000000</td>\n",
       "      <td>91.000000</td>\n",
       "      <td>135.000000</td>\n",
       "      <td>91.000000</td>\n",
       "      <td>0.717644</td>\n",
       "    </tr>\n",
       "    <tr>\n",
       "      <th>max</th>\n",
       "      <td>800.0000</td>\n",
       "      <td>255.000000</td>\n",
       "      <td>190.000000</td>\n",
       "      <td>230.000000</td>\n",
       "      <td>194.000000</td>\n",
       "      <td>230.000000</td>\n",
       "      <td>180.000000</td>\n",
       "      <td>6.00000</td>\n",
       "      <td>1.00000</td>\n",
       "      <td>152.000000</td>\n",
       "      <td>152.000000</td>\n",
       "      <td>164.000000</td>\n",
       "      <td>152.000000</td>\n",
       "      <td>0.984496</td>\n",
       "    </tr>\n",
       "  </tbody>\n",
       "</table>\n",
       "</div>"
      ],
      "text/plain": [
       "         NUMERO  POINTS_DE_VIE  POINTS_ATTAQUE  POINTS_DEFFENCE  \\\n",
       "count  800.0000     800.000000      800.000000       800.000000   \n",
       "mean   400.5000      69.258750       79.001250        73.842500   \n",
       "std    231.0844      25.534669       32.457366        31.183501   \n",
       "min      1.0000       1.000000        5.000000         5.000000   \n",
       "25%    200.7500      50.000000       55.000000        50.000000   \n",
       "50%    400.5000      65.000000       75.000000        70.000000   \n",
       "75%    600.2500      80.000000      100.000000        90.000000   \n",
       "max    800.0000     255.000000      190.000000       230.000000   \n",
       "\n",
       "       POINTS_ATTAQUE_SPECIALE  POINT_DEFENSE_SPECIALE  POINTS_VITESSE  \\\n",
       "count               800.000000              800.000000      800.000000   \n",
       "mean                 72.820000               71.902500       68.277500   \n",
       "std                  32.722294               27.828916       29.060474   \n",
       "min                  10.000000               20.000000        5.000000   \n",
       "25%                  49.750000               50.000000       45.000000   \n",
       "50%                  65.000000               70.000000       65.000000   \n",
       "75%                  95.000000               90.000000       90.000000   \n",
       "max                 194.000000              230.000000      180.000000   \n",
       "\n",
       "       NOMBRE_GENERATIONS  LEGENDAIRE  Premier_Pokemon  Second_Pokemon  \\\n",
       "count           800.00000   800.00000       783.000000      783.000000   \n",
       "mean              3.32375     0.08125        63.856960       63.856960   \n",
       "std               1.66129     0.27339        32.925941       32.925941   \n",
       "min               1.00000     0.00000         3.000000        3.000000   \n",
       "25%               2.00000     0.00000        36.000000       36.000000   \n",
       "50%               3.00000     0.00000        62.000000       62.000000   \n",
       "75%               5.00000     0.00000        91.000000       91.000000   \n",
       "max               6.00000     1.00000       152.000000      152.000000   \n",
       "\n",
       "       NBRE_COMBATS  NBRE_VICTOIRES  POURCENTAGE_VICTOIRES  \n",
       "count    783.000000      783.000000             783.000000  \n",
       "mean     127.541507       63.856960               0.501538  \n",
       "std       11.397402       32.925941               0.254993  \n",
       "min       92.000000        3.000000               0.021739  \n",
       "25%      120.000000       36.000000               0.284228  \n",
       "50%      128.000000       62.000000               0.491071  \n",
       "75%      135.000000       91.000000               0.717644  \n",
       "max      164.000000      152.000000               0.984496  "
      ]
     },
     "execution_count": 58,
     "metadata": {},
     "output_type": "execute_result"
    }
   ],
   "source": [
    "nouveauPokedex.describe()"
   ]
  },
  {
   "cell_type": "code",
   "execution_count": 59,
   "metadata": {},
   "outputs": [
    {
     "data": {
      "text/html": [
       "<div>\n",
       "<style scoped>\n",
       "    .dataframe tbody tr th:only-of-type {\n",
       "        vertical-align: middle;\n",
       "    }\n",
       "\n",
       "    .dataframe tbody tr th {\n",
       "        vertical-align: top;\n",
       "    }\n",
       "\n",
       "    .dataframe thead th {\n",
       "        text-align: right;\n",
       "    }\n",
       "</style>\n",
       "<table border=\"1\" class=\"dataframe\">\n",
       "  <thead>\n",
       "    <tr style=\"text-align: right;\">\n",
       "      <th></th>\n",
       "      <th>POURCENTAGE_VICTOIRES</th>\n",
       "    </tr>\n",
       "    <tr>\n",
       "      <th>TYPE_1</th>\n",
       "      <th></th>\n",
       "    </tr>\n",
       "  </thead>\n",
       "  <tbody>\n",
       "    <tr>\n",
       "      <th>Fée</th>\n",
       "      <td>0.329300</td>\n",
       "    </tr>\n",
       "    <tr>\n",
       "      <th>E</th>\n",
       "      <td>0.343750</td>\n",
       "    </tr>\n",
       "    <tr>\n",
       "      <th>Roche</th>\n",
       "      <td>0.404852</td>\n",
       "    </tr>\n",
       "    <tr>\n",
       "      <th>Acier</th>\n",
       "      <td>0.424529</td>\n",
       "    </tr>\n",
       "    <tr>\n",
       "      <th>Poison</th>\n",
       "      <td>0.433262</td>\n",
       "    </tr>\n",
       "    <tr>\n",
       "      <th>Insecte</th>\n",
       "      <td>0.439006</td>\n",
       "    </tr>\n",
       "    <tr>\n",
       "      <th>Glace</th>\n",
       "      <td>0.439604</td>\n",
       "    </tr>\n",
       "    <tr>\n",
       "      <th>Herbe</th>\n",
       "      <td>0.440364</td>\n",
       "    </tr>\n",
       "    <tr>\n",
       "      <th>Eau</th>\n",
       "      <td>0.470520</td>\n",
       "    </tr>\n",
       "    <tr>\n",
       "      <th>Combat</th>\n",
       "      <td>0.475616</td>\n",
       "    </tr>\n",
       "    <tr>\n",
       "      <th>Spectre</th>\n",
       "      <td>0.484027</td>\n",
       "    </tr>\n",
       "    <tr>\n",
       "      <th>Normal</th>\n",
       "      <td>0.535578</td>\n",
       "    </tr>\n",
       "    <tr>\n",
       "      <th>Sol</th>\n",
       "      <td>0.541526</td>\n",
       "    </tr>\n",
       "    <tr>\n",
       "      <th>Psy</th>\n",
       "      <td>0.545747</td>\n",
       "    </tr>\n",
       "    <tr>\n",
       "      <th>Feu</th>\n",
       "      <td>0.579215</td>\n",
       "    </tr>\n",
       "    <tr>\n",
       "      <th>Obscur</th>\n",
       "      <td>0.629726</td>\n",
       "    </tr>\n",
       "    <tr>\n",
       "      <th>Electrique</th>\n",
       "      <td>0.632861</td>\n",
       "    </tr>\n",
       "    <tr>\n",
       "      <th>Dragon</th>\n",
       "      <td>0.633587</td>\n",
       "    </tr>\n",
       "    <tr>\n",
       "      <th>Vol</th>\n",
       "      <td>0.765061</td>\n",
       "    </tr>\n",
       "  </tbody>\n",
       "</table>\n",
       "</div>"
      ],
      "text/plain": [
       "            POURCENTAGE_VICTOIRES\n",
       "TYPE_1                           \n",
       "Fée                      0.329300\n",
       "E                        0.343750\n",
       "Roche                    0.404852\n",
       "Acier                    0.424529\n",
       "Poison                   0.433262\n",
       "Insecte                  0.439006\n",
       "Glace                    0.439604\n",
       "Herbe                    0.440364\n",
       "Eau                      0.470520\n",
       "Combat                   0.475616\n",
       "Spectre                  0.484027\n",
       "Normal                   0.535578\n",
       "Sol                      0.541526\n",
       "Psy                      0.545747\n",
       "Feu                      0.579215\n",
       "Obscur                   0.629726\n",
       "Electrique               0.632861\n",
       "Dragon                   0.633587\n",
       "Vol                      0.765061"
      ]
     },
     "execution_count": 59,
     "metadata": {},
     "output_type": "execute_result"
    }
   ],
   "source": [
    "#What Pokemons Type have the great winning percentage?\n",
    "nouveauPokedex.groupby('TYPE_1').agg({'POURCENTAGE_VICTOIRES':'mean'}).sort_values(by='POURCENTAGE_VICTOIRES')"
   ]
  },
  {
   "cell_type": "code",
   "execution_count": 60,
   "metadata": {
    "scrolled": true
   },
   "outputs": [
    {
     "data": {
      "image/png": "[encoded data removed]",
      "text/plain": [
       "<Figure size 432x288 with 2 Axes>"
      ]
     },
     "metadata": {
      "needs_background": "light"
     },
     "output_type": "display_data"
    }
   ],
   "source": [
    "#Correlation entre les données\n",
    "corr = nouveauPokedex.loc[:,['TYPE_1','POINTS_DE_VIE','POINTS_ATTAQUE','POINTS_DEFFENCE','POINTS_ATTAQUE_SPECIALE',\n",
    "                             'POINT_DEFENSE_SPECIALE','POINTS_VITESSE','LEGENDAIRE','POURCENTAGE_VICTOIRES']].corr()\n",
    "sns.heatmap(corr, annot=True, cmap='Greens')\n",
    "plt.title('Correlation des features')\n",
    "plt.show()\n"
   ]
  },
  {
   "cell_type": "code",
   "execution_count": 61,
   "metadata": {
    "scrolled": true
   },
   "outputs": [],
   "source": [
    "#Sauvegarde du nouveau dataset Pokedex\n",
    "dataset = nouveauPokedex\n",
    "dataset.to_csv(\"C:/Users/Andreas/PycharmProjects/Pokemon/datas/dataset.csv\", encoding = \"ISO-8859-1\", sep='\\t')"
   ]
  },
  {
   "cell_type": "code",
   "execution_count": 62,
   "metadata": {},
   "outputs": [],
   "source": [
    "dataset = pd.read_csv(\"C:/Users/Andreas/PycharmProjects/Pokemon/datas/dataset.csv\", encoding = \"ISO-8859-1\", delimiter='\\t')"
   ]
  },
  {
   "cell_type": "code",
   "execution_count": 63,
   "metadata": {},
   "outputs": [
    {
     "name": "stdout",
     "output_type": "stream",
     "text": [
      "<class 'pandas.core.frame.DataFrame'>\n",
      "RangeIndex: 800 entries, 0 to 799\n",
      "Data columns (total 18 columns):\n",
      "Unnamed: 0                 800 non-null int64\n",
      "NUMERO                     800 non-null int64\n",
      "NOM                        800 non-null object\n",
      "TYPE_1                     800 non-null object\n",
      "TYPE_2                     413 non-null object\n",
      "POINTS_DE_VIE              800 non-null int64\n",
      "POINTS_ATTAQUE             800 non-null int64\n",
      "POINTS_DEFFENCE            800 non-null int64\n",
      "POINTS_ATTAQUE_SPECIALE    800 non-null int64\n",
      "POINT_DEFENSE_SPECIALE     800 non-null int64\n",
      "POINTS_VITESSE             800 non-null int64\n",
      "NOMBRE_GENERATIONS         800 non-null int64\n",
      "LEGENDAIRE                 800 non-null int64\n",
      "Premier_Pokemon            783 non-null float64\n",
      "Second_Pokemon             783 non-null float64\n",
      "NBRE_COMBATS               783 non-null float64\n",
      "NBRE_VICTOIRES             783 non-null float64\n",
      "POURCENTAGE_VICTOIRES      783 non-null float64\n",
      "dtypes: float64(5), int64(10), object(3)\n",
      "memory usage: 112.6+ KB\n"
     ]
    }
   ],
   "source": [
    "dataset.info()"
   ]
  },
  {
   "cell_type": "code",
   "execution_count": 64,
   "metadata": {},
   "outputs": [
    {
     "data": {
      "text/plain": [
       "(800, 18)"
      ]
     },
     "execution_count": 64,
     "metadata": {},
     "output_type": "execute_result"
    }
   ],
   "source": [
    "dataset.shape"
   ]
  },
  {
   "cell_type": "code",
   "execution_count": 65,
   "metadata": {},
   "outputs": [
    {
     "data": {
      "text/html": [
       "<div>\n",
       "<style scoped>\n",
       "    .dataframe tbody tr th:only-of-type {\n",
       "        vertical-align: middle;\n",
       "    }\n",
       "\n",
       "    .dataframe tbody tr th {\n",
       "        vertical-align: top;\n",
       "    }\n",
       "\n",
       "    .dataframe thead th {\n",
       "        text-align: right;\n",
       "    }\n",
       "</style>\n",
       "<table border=\"1\" class=\"dataframe\">\n",
       "  <thead>\n",
       "    <tr style=\"text-align: right;\">\n",
       "      <th></th>\n",
       "      <th>Unnamed: 0</th>\n",
       "      <th>NUMERO</th>\n",
       "      <th>NOM</th>\n",
       "      <th>TYPE_1</th>\n",
       "      <th>TYPE_2</th>\n",
       "      <th>POINTS_DE_VIE</th>\n",
       "      <th>POINTS_ATTAQUE</th>\n",
       "      <th>POINTS_DEFFENCE</th>\n",
       "      <th>POINTS_ATTAQUE_SPECIALE</th>\n",
       "      <th>POINT_DEFENSE_SPECIALE</th>\n",
       "      <th>POINTS_VITESSE</th>\n",
       "      <th>NOMBRE_GENERATIONS</th>\n",
       "      <th>LEGENDAIRE</th>\n",
       "      <th>Premier_Pokemon</th>\n",
       "      <th>Second_Pokemon</th>\n",
       "      <th>NBRE_COMBATS</th>\n",
       "      <th>NBRE_VICTOIRES</th>\n",
       "      <th>POURCENTAGE_VICTOIRES</th>\n",
       "    </tr>\n",
       "  </thead>\n",
       "  <tbody>\n",
       "    <tr>\n",
       "      <th>0</th>\n",
       "      <td>0</td>\n",
       "      <td>1</td>\n",
       "      <td>Bulbizarre</td>\n",
       "      <td>Herbe</td>\n",
       "      <td>Poison</td>\n",
       "      <td>45</td>\n",
       "      <td>49</td>\n",
       "      <td>49</td>\n",
       "      <td>65</td>\n",
       "      <td>65</td>\n",
       "      <td>45</td>\n",
       "      <td>1</td>\n",
       "      <td>0</td>\n",
       "      <td>37.0</td>\n",
       "      <td>37.0</td>\n",
       "      <td>133.0</td>\n",
       "      <td>37.0</td>\n",
       "      <td>0.278195</td>\n",
       "    </tr>\n",
       "    <tr>\n",
       "      <th>1</th>\n",
       "      <td>1</td>\n",
       "      <td>2</td>\n",
       "      <td>Herbizarre</td>\n",
       "      <td>Herbe</td>\n",
       "      <td>Poison</td>\n",
       "      <td>60</td>\n",
       "      <td>62</td>\n",
       "      <td>63</td>\n",
       "      <td>80</td>\n",
       "      <td>80</td>\n",
       "      <td>60</td>\n",
       "      <td>1</td>\n",
       "      <td>0</td>\n",
       "      <td>46.0</td>\n",
       "      <td>46.0</td>\n",
       "      <td>121.0</td>\n",
       "      <td>46.0</td>\n",
       "      <td>0.380165</td>\n",
       "    </tr>\n",
       "    <tr>\n",
       "      <th>2</th>\n",
       "      <td>2</td>\n",
       "      <td>3</td>\n",
       "      <td>Florizarre</td>\n",
       "      <td>Herbe</td>\n",
       "      <td>Poison</td>\n",
       "      <td>80</td>\n",
       "      <td>82</td>\n",
       "      <td>83</td>\n",
       "      <td>100</td>\n",
       "      <td>100</td>\n",
       "      <td>80</td>\n",
       "      <td>1</td>\n",
       "      <td>0</td>\n",
       "      <td>89.0</td>\n",
       "      <td>89.0</td>\n",
       "      <td>132.0</td>\n",
       "      <td>89.0</td>\n",
       "      <td>0.674242</td>\n",
       "    </tr>\n",
       "    <tr>\n",
       "      <th>3</th>\n",
       "      <td>3</td>\n",
       "      <td>4</td>\n",
       "      <td>Mega Florizarre</td>\n",
       "      <td>Herbe</td>\n",
       "      <td>Poison</td>\n",
       "      <td>80</td>\n",
       "      <td>100</td>\n",
       "      <td>123</td>\n",
       "      <td>122</td>\n",
       "      <td>120</td>\n",
       "      <td>80</td>\n",
       "      <td>1</td>\n",
       "      <td>0</td>\n",
       "      <td>70.0</td>\n",
       "      <td>70.0</td>\n",
       "      <td>125.0</td>\n",
       "      <td>70.0</td>\n",
       "      <td>0.560000</td>\n",
       "    </tr>\n",
       "    <tr>\n",
       "      <th>4</th>\n",
       "      <td>4</td>\n",
       "      <td>5</td>\n",
       "      <td>Salamèche</td>\n",
       "      <td>Feu</td>\n",
       "      <td>NaN</td>\n",
       "      <td>39</td>\n",
       "      <td>52</td>\n",
       "      <td>43</td>\n",
       "      <td>60</td>\n",
       "      <td>50</td>\n",
       "      <td>65</td>\n",
       "      <td>1</td>\n",
       "      <td>0</td>\n",
       "      <td>55.0</td>\n",
       "      <td>55.0</td>\n",
       "      <td>112.0</td>\n",
       "      <td>55.0</td>\n",
       "      <td>0.491071</td>\n",
       "    </tr>\n",
       "  </tbody>\n",
       "</table>\n",
       "</div>"
      ],
      "text/plain": [
       "   Unnamed: 0  NUMERO              NOM TYPE_1  TYPE_2  POINTS_DE_VIE  \\\n",
       "0           0       1       Bulbizarre  Herbe  Poison             45   \n",
       "1           1       2       Herbizarre  Herbe  Poison             60   \n",
       "2           2       3       Florizarre  Herbe  Poison             80   \n",
       "3           3       4  Mega Florizarre  Herbe  Poison             80   \n",
       "4           4       5        Salamèche    Feu     NaN             39   \n",
       "\n",
       "   POINTS_ATTAQUE  POINTS_DEFFENCE  POINTS_ATTAQUE_SPECIALE  \\\n",
       "0              49               49                       65   \n",
       "1              62               63                       80   \n",
       "2              82               83                      100   \n",
       "3             100              123                      122   \n",
       "4              52               43                       60   \n",
       "\n",
       "   POINT_DEFENSE_SPECIALE  POINTS_VITESSE  NOMBRE_GENERATIONS  LEGENDAIRE  \\\n",
       "0                      65              45                   1           0   \n",
       "1                      80              60                   1           0   \n",
       "2                     100              80                   1           0   \n",
       "3                     120              80                   1           0   \n",
       "4                      50              65                   1           0   \n",
       "\n",
       "   Premier_Pokemon  Second_Pokemon  NBRE_COMBATS  NBRE_VICTOIRES  \\\n",
       "0             37.0            37.0         133.0            37.0   \n",
       "1             46.0            46.0         121.0            46.0   \n",
       "2             89.0            89.0         132.0            89.0   \n",
       "3             70.0            70.0         125.0            70.0   \n",
       "4             55.0            55.0         112.0            55.0   \n",
       "\n",
       "   POURCENTAGE_VICTOIRES  \n",
       "0               0.278195  \n",
       "1               0.380165  \n",
       "2               0.674242  \n",
       "3               0.560000  \n",
       "4               0.491071  "
      ]
     },
     "execution_count": 65,
     "metadata": {},
     "output_type": "execute_result"
    }
   ],
   "source": [
    "dataset.head(5)"
   ]
  },
  {
   "cell_type": "code",
   "execution_count": 66,
   "metadata": {},
   "outputs": [],
   "source": [
    "#Supprimer toutes les lignes ayant des valeurs manquantes\n",
    "dataset = dataset.dropna(axis=0, how ='any')"
   ]
  },
  {
   "cell_type": "code",
   "execution_count": 67,
   "metadata": {},
   "outputs": [],
   "source": [
    "# Extraction des valeurs explicatives\n",
    "X = dataset.iloc[:, 5:12].values\n",
    "#Extraction de la valeur expliquée\n",
    "Y = dataset.iloc[:, 17].values \n",
    "\n",
    "# Construction du jeu d'entrainement et du jeu de test\n"
   ]
  },
  {
   "cell_type": "code",
   "execution_count": 68,
   "metadata": {},
   "outputs": [
    {
     "data": {
      "text/plain": [
       "(81,)"
      ]
     },
     "execution_count": 68,
     "metadata": {},
     "output_type": "execute_result"
    }
   ],
   "source": [
    " X_APPRENTISSAGE,  X_VALIDATION,  Y_APPRENTISSAGE,  Y_VALIDATION = train_test_split(X, Y, test_size=0.2, random_state= 0)\n",
    "Y_VALIDATION.shape"
   ]
  },
  {
   "cell_type": "markdown",
   "metadata": {},
   "source": [
    "## Phase d'apprentissage\n",
    "Il s'agit d'un problème de regression. Nous allons utiliser les algorithmes suivants\n",
    "<ul>\n",
    "    <li>Regression Lineaire</li>\n",
    "    <li>Arbre de decision</li>\n",
    "    <li>Forêt aléatoire</li>\n",
    "</ul>"
   ]
  },
  {
   "cell_type": "code",
   "execution_count": 69,
   "metadata": {},
   "outputs": [
    {
     "data": {
      "text/plain": [
       "0.9043488485570963"
      ]
     },
     "execution_count": 69,
     "metadata": {},
     "output_type": "execute_result"
    }
   ],
   "source": [
    "#Modèle d'apprentissage\n",
    "\n",
    "#Algorithme de regression Lineaire\n",
    "algorithme = LinearRegression()\n",
    "#Apprentissage de l'algorithme avec des jeux de données d'apprentissage\n",
    "algorithme.fit(X_APPRENTISSAGE, Y_APPRENTISSAGE)\n",
    "#Realisation des predictions avec notre jeu de test\n",
    "predictions = algorithme.predict(X_VALIDATION)\n",
    "#Calcul de la precision de notre algorithme\n",
    "precision = r2_score(Y_VALIDATION, predictions)\n",
    "precision\n"
   ]
  },
  {
   "cell_type": "code",
   "execution_count": 70,
   "metadata": {},
   "outputs": [
    {
     "data": {
      "text/plain": [
       "0.8804268730938482"
      ]
     },
     "execution_count": 70,
     "metadata": {},
     "output_type": "execute_result"
    }
   ],
   "source": [
    "\n",
    "#Algorithme d'abre de decisions.\n",
    "algorithme = DecisionTreeRegressor()\n",
    "#Apprentissage de l'algorithme avec des jeux de données d'apprentissage\n",
    "algorithme.fit(X_APPRENTISSAGE, Y_APPRENTISSAGE)\n",
    "#Realisation des predictions avec notre jeu de test\n",
    "predictions = algorithme.predict(X_VALIDATION)\n",
    "#Calcul de la precision de notre algorithme\n",
    "precision = r2_score(Y_VALIDATION, predictions)\n",
    "precision\n"
   ]
  },
  {
   "cell_type": "code",
   "execution_count": 72,
   "metadata": {},
   "outputs": [
    {
     "data": {
      "text/plain": [
       "0.9334217184759959"
      ]
     },
     "execution_count": 72,
     "metadata": {},
     "output_type": "execute_result"
    }
   ],
   "source": [
    "#Algorithme de Forêt aléatoire.\n",
    "algorithme = RandomForestRegressor()\n",
    "#Apprentissage de l'algorithme avec des jeux de données d'apprentissage\n",
    "algorithme.fit(X_APPRENTISSAGE, Y_APPRENTISSAGE)\n",
    "#Realisation des predictions avec notre jeu de test\n",
    "predictions = algorithme.predict(X_VALIDATION)\n",
    "#Calcul de la precision de notre algorithme\n",
    "precision = r2_score(Y_VALIDATION, predictions)\n",
    "\n",
    "#Sauvegarde du modèle d'apprentissage dans un fichier car il presente la plus grande precision.\n",
    "file = './modele/modele_pokemon.mod'\n",
    "joblib.dump(algorithme, file)\n",
    "\n",
    "precision"
   ]
  },
  {
   "cell_type": "code",
   "execution_count": 73,
   "metadata": {},
   "outputs": [
    {
     "name": "stdout",
     "output_type": "stream",
     "text": [
      "COMBAT OPPOSANT Mangriff A Crapustule\n",
      "----------Prediction des Pokemons--------\n",
      "Mangriff [0.70453906]\n",
      "Crapustule [0.56317528]\n",
      "Mangriff est vainqueur\n"
     ]
    }
   ],
   "source": [
    "# Fonction qui recherche les informations en fonction du numero du Pokemon dans le Pokedex\n",
    "\n",
    "def rechercheInformationPokemon(numeroPokemon, pokedex):\n",
    "    infosPokemon = []\n",
    "    for pokemon in pokedex:\n",
    "        if ( numeroPokemon == int(pokemon[0]) ):\n",
    "            infosPokemon = pokemon[1], pokemon[4], pokemon[5], pokemon[6], pokemon[7], pokemon[8], pokemon[9], pokemon[10]\n",
    "            break\n",
    "    return infosPokemon\n",
    "            \n",
    "# Fonction de prediction \n",
    "def prediction(numeroPokemon1, numeroPokemon2, Pokedex):\n",
    "    pokemon_1 = rechercheInformationPokemon(numeroPokemon1,Pokedex)\n",
    "    pokemon_2 = rechercheInformationPokemon(numeroPokemon2,Pokedex)\n",
    "            \n",
    "    # Chargement du modele d'apprentissage dans l'algorithme       \n",
    "    modele_prediction = joblib.load('C:/Users/Andreas/PycharmProjects/Pokemon/modele/modele_pokemon.mod')\n",
    "    prediction_pokemon_1 = modele_prediction.predict([[pokemon_1[1], pokemon_1[2], pokemon_1[3], pokemon_1[4], pokemon_1[5],\n",
    "                           pokemon_1[6], pokemon_1[7]]])\n",
    "    prediction_pokemon_2 = modele_prediction.predict([[pokemon_2[1], pokemon_2[2], pokemon_2[3], pokemon_2[4], pokemon_2[5],\n",
    "                           pokemon_2[6], pokemon_2[7]]])\n",
    "     \n",
    "    print('COMBAT OPPOSANT ' + str(pokemon_1[0]) +' A ' + str(pokemon_2[0]))\n",
    "    print('----------Prediction des Pokemons--------')\n",
    "    print( str(pokemon_1[0]) + \" \" +str(prediction_pokemon_1) )\n",
    "    print( str(pokemon_2[0]) + \" \" +str(prediction_pokemon_2) )\n",
    "            \n",
    "    if prediction_pokemon_1 > prediction_pokemon_2:\n",
    "        print( str(pokemon_1[0]) +' est vainqueur')\n",
    "    else:\n",
    "        print( str(pokemon_2[0]) +' est vainqueur')\n",
    "\n",
    "with open(\"./datas/pokedex.csv\", newline='') as csvfile:\n",
    "    pokedex=csv.reader(csvfile)\n",
    "    next(pokedex)\n",
    "    prediction(368, 598, pokedex); \n",
    "    "
   ]
  },
  {
   "cell_type": "code",
   "execution_count": null,
   "metadata": {},
   "outputs": [],
   "source": []
  }
 ],
 "metadata": {
  "kernelspec": {
   "display_name": "Python 3",
   "language": "python",
   "name": "python3"
  },
  "language_info": {
   "codemirror_mode": {
    "name": "ipython",
    "version": 3
   },
   "file_extension": ".py",
   "mimetype": "text/x-python",
   "name": "python",
   "nbconvert_exporter": "python",
   "pygments_lexer": "ipython3",
   "version": "3.7.1"
  }
 },
 "nbformat": 4,
 "nbformat_minor": 2
}
